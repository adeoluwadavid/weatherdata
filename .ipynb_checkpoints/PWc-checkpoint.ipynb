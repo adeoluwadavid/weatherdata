{
 "cells": [
  {
   "cell_type": "code",
   "execution_count": 10,
   "metadata": {},
   "outputs": [],
   "source": [
    "\n",
    "from __future__ import print_function\n",
    "from ipywidgets import interact, interactive, fixed, interact_manual\n",
    "from IPython.display import display\n",
    "import ipywidgets as widgets"
   ]
  },
  {
   "cell_type": "code",
   "execution_count": 11,
   "metadata": {},
   "outputs": [
    {
     "data": {
      "application/vnd.jupyter.widget-view+json": {
       "model_id": "8694ac55b536468597d14f2384101d9c",
       "version_major": 2,
       "version_minor": 0
      },
      "text/plain": [
       "DatePicker(value=None, description='Pick a Date')"
      ]
     },
     "metadata": {},
     "output_type": "display_data"
    },
    {
     "data": {
      "application/vnd.jupyter.widget-view+json": {
       "model_id": "9182199c318249d89397d393cdc02763",
       "version_major": 2,
       "version_minor": 0
      },
      "text/plain": [
       "Dropdown(description='Data To Plot:', options=('Temperature', 'Dew Point', 'Humidity', 'Wind', 'Wind Speed', '…"
      ]
     },
     "metadata": {},
     "output_type": "display_data"
    }
   ],
   "source": [
    "picker = widgets.DatePicker(\n",
    "    description='Pick a Date',\n",
    "    disabled=False\n",
    ")\n",
    "\n",
    "dropdown = widgets.Dropdown(\n",
    "    options=['Temperature', 'Dew Point', 'Humidity','Wind', 'Wind Speed' ,'Wind Gust','Pressure','Precip','Condition'],\n",
    "    value='Temperature',\n",
    "    description='Data To Plot:',\n",
    "    disabled=False,\n",
    ")\n",
    "\n",
    "\n",
    "display(picker, dropdown)"
   ]
  },
  {
   "cell_type": "code",
   "execution_count": 12,
   "metadata": {},
   "outputs": [
    {
     "data": {
      "application/vnd.jupyter.widget-view+json": {
       "model_id": "9aa5f97d6cf04540b8a3f7aeb3d728bc",
       "version_major": 2,
       "version_minor": 0
      },
      "text/plain": [
       "Dropdown(description='Year:', index=3, options=('2014', '2015', '2016', '2017', '2018', '2019', '2020'), value…"
      ]
     },
     "metadata": {},
     "output_type": "display_data"
    },
    {
     "data": {
      "application/vnd.jupyter.widget-view+json": {
       "model_id": "9e523c4ba50a4871ae38e1ca18cacbd5",
       "version_major": 2,
       "version_minor": 0
      },
      "text/plain": [
       "Dropdown(description='Month:', options=('Jan', 'Feb', 'Mar', 'Apr', 'May', 'June', 'July', 'Aug', 'Sept', 'Oct…"
      ]
     },
     "metadata": {},
     "output_type": "display_data"
    },
    {
     "data": {
      "application/vnd.jupyter.widget-view+json": {
       "model_id": "563812b496854cce90150244a6b54280",
       "version_major": 2,
       "version_minor": 0
      },
      "text/plain": [
       "Dropdown(description='Day:', options=(1, 2, 3, 4, 5, 6, 7, 8, 9, 10, 11, 12, 13, 14, 15, 16, 17, 18, 19, 20, 2…"
      ]
     },
     "metadata": {},
     "output_type": "display_data"
    },
    {
     "data": {
      "application/vnd.jupyter.widget-view+json": {
       "model_id": "ebcd23b3662e4a81a18df00429c0c667",
       "version_major": 2,
       "version_minor": 0
      },
      "text/plain": [
       "Dropdown(description='Data To Plot:', options=('Temperature', 'Dew Point', 'Humidity', 'Wind', 'Wind Speed', '…"
      ]
     },
     "metadata": {},
     "output_type": "display_data"
    }
   ],
   "source": [
    "\n",
    "year = widgets.Dropdown(\n",
    "    options=['2014', '2015', '2016','2017','2018','2019','2020'],\n",
    "    value='2017',\n",
    "    description='Year:',\n",
    "    disabled=False,\n",
    ")\n",
    "month = widgets.Dropdown(\n",
    "    options=['Jan', 'Feb', 'Mar','Apr','May','June','July','Aug','Sept','Oct','Nov','Dec'],\n",
    "    value='Jan',\n",
    "    description='Month:',\n",
    "    disabled=False,\n",
    ")\n",
    "day = widgets.Dropdown(\n",
    "    options=[1, 2, 3,4,5,6,7,8,9,10,11,12,13,14,15,16,17,18,19,20,21,22,23,24,25,26,27,28,29,30,31],\n",
    "    value=1,\n",
    "    description='Day:',\n",
    "    disabled=False,\n",
    ")\n",
    "dataToPlot = widgets.Dropdown(\n",
    "    options=['Temperature', 'Dew Point', 'Humidity','Wind', 'Wind Speed' ,'Wind Gust','Pressure','Precip','Condition'],\n",
    "    value='Temperature',\n",
    "    description='Data To Plot:',\n",
    "    disabled=False,\n",
    ")\n",
    "display(year,month,day,dataToPlot)"
   ]
  },
  {
   "cell_type": "code",
   "execution_count": 13,
   "metadata": {},
   "outputs": [],
   "source": [
    "# -*- coding: utf-8 -*-\n",
    "\"\"\"\n",
    "Created on Fri Oct  9 15:16:17 2020\n",
    "\n",
    "@author: Adewole\n",
    "\"\"\"\n",
    "\n",
    "import pandas as pd\n",
    "import matplotlib.pyplot as plt\n",
    "\n",
    "year = '2014'\n",
    "month = 'Feb'\n",
    "day = 3\n",
    "dataToPlot = 'Temperature'"
   ]
  },
  {
   "cell_type": "code",
   "execution_count": 14,
   "metadata": {},
   "outputs": [
    {
     "data": {
      "image/png": "[encoded data removed]",
      "text/plain": [
       "<Figure size 432x288 with 1 Axes>"
      ]
     },
     "metadata": {
      "needs_background": "light"
     },
     "output_type": "display_data"
    }
   ],
   "source": [
    "start = (day - 1) * 24\n",
    "end = start + 24\n",
    "\n",
    "\n",
    "df = pd.read_excel( year +'.xlsx', month)\n",
    "\n",
    "# extraction but it is still in dataframe class\n",
    "time = df.iloc[start:end, 2:3]\n",
    "temperature = df.iloc[start:end, 3:4]\n",
    "dewPoint = df.iloc[start:end, 4:5]\n",
    "humidity = df.iloc[start:end, 5:6]\n",
    "wind = df.iloc[start:end, 6:7]\n",
    "windSpeed = df.iloc[start:end, 7:8]\n",
    "windGust = df.iloc[start:end, 8:9]\n",
    "pressure = df.iloc[start:end, 9:10]\n",
    "precip = df.iloc[start:end, 10:11]\n",
    "condition = df.iloc[start:end, 11:12]\n",
    "\n",
    "# save it back to the time and temperature\n",
    "\n",
    "df['Time'] = time\n",
    "df['Temperature'] = temperature\n",
    "df['Dew Point'] = dewPoint\n",
    "df['Humidity'] = humidity\n",
    "df['Wind'] = wind\n",
    "df['Wind Speed'] = windSpeed\n",
    "df['Wind Gust'] = windGust\n",
    "df['Pressure'] = pressure\n",
    "df['Condition'] = condition\n",
    "\n",
    "# change dataframe to series and the object to string\n",
    "# remove the empty spaces\n",
    "mytime = df['Time'].dropna(how='any').astype('str')\n",
    "\n",
    "temperature1 = df['Temperature'].dropna(how='any').astype('str')\n",
    "dewPoint1 = df['Dew Point'].dropna(how='any').astype('str')\n",
    "humidity1 = df['Humidity'].dropna(how='any').astype('str')\n",
    "wind1 = df['Wind'].dropna(how='any').astype('str')\n",
    "windSpeed1 = df['Wind Speed'].dropna(how='any').astype('str')\n",
    "windGust1 = df['Wind Gust'].dropna(how='any').astype('str')\n",
    "pressure1 = df['Pressure'].dropna(how='any').astype('str')\n",
    "precip1 = df['Precip'].dropna(how='any').astype('str')\n",
    "condition1 = df['Condition'].dropna(how='any').astype('str')\n",
    "\n",
    "#Data Value extraction for number joined with alphabet\n",
    "mytime1 = mytime.str.extract(r'(^.{0,5})')\n",
    "\n",
    "a = temperature1.str.extract(r'(^.{0,3})')\n",
    "b = dewPoint1.str.extract(r'(^.{0,3})')\n",
    "c = humidity1.str.extract(r'(^.{0,3})')\n",
    "d = windSpeed1.str.extract(r'(^.{0,2})')\n",
    "e = windGust1.str.extract(r'(^.{0,2})')\n",
    "f = pressure1.str.extract(r'(^.{0,6})')\n",
    "g = precip1.str.extract(r'(^.{0,3})')\n",
    "# Wind & Condition are not extracted since the do not contain numbers\n",
    "\n",
    "#Returning the extracted value back to the dataframe\n",
    "df['Time'] = mytime1\n",
    "\n",
    "df['Temperature'] = a\n",
    "df['Dew Point'] = b\n",
    "df['Humidity'] = c\n",
    "df['Wind Speed'] = d\n",
    "df['Wind Gust'] = e\n",
    "df['Pressure'] = f\n",
    "df['Precip'] = g\n",
    "\n",
    "time = df['Time'].dropna(how='any').astype('str')\n",
    "\n",
    "temp2 = df['Temperature'].dropna(how='any').astype('str')\n",
    "dewPoint2 = df['Dew Point'].dropna(how='any').astype('str')\n",
    "humidity2 = df['Humidity'].dropna(how='any').astype('str')\n",
    "wind2 = df['Wind'].dropna(how='any').astype('str')\n",
    "windSpeed2 = df['Wind Speed'].dropna(how='any').astype('str')\n",
    "windGust2 = df['Wind Gust'].dropna(how='any').astype('str')\n",
    "pressure2 = df['Pressure'].dropna(how='any').astype('str')\n",
    "precip2 = df['Precip'].dropna(how='any').astype('str')\n",
    "condition2 = df['Condition'].dropna(how='any').astype('str')\n",
    "\n",
    "#Changing string values to int and float\n",
    "temp3 = temp2.astype('int')\n",
    "dewPoint3 = dewPoint2.astype('int')\n",
    "humidity3 = humidity2.astype('int')\n",
    "wind3 = wind2\n",
    "windSpeed3 = windSpeed2.astype('int')\n",
    "windGust3 = windGust2.astype('int')\n",
    "pressure3 = pressure2.astype('float')\n",
    "precip3 = pressure2.astype('float')\n",
    "condition3 = condition2\n",
    "\n",
    "\n",
    "if(dataToPlot == 'Temperature'):\n",
    "    plt.plot(time,temp3,\"-o\")\n",
    "    plt.xlabel(\"Time(Hours)\")\n",
    "    plt.ylabel(\"Temperature(F)\")\n",
    "elif(dataToPlot == 'Dew Point'):\n",
    "    plt.plot(time,dewPoint3,\"-o\")\n",
    "    plt.xlabel(\"Time(Hours)\")\n",
    "    plt.ylabel(\"Dew Point(F)\")\n",
    "elif(dataToPlot == 'Humidity'):\n",
    "    plt.plot(time,humidity3,\"-o\")\n",
    "    plt.xlabel(\"Time(Hours)\")\n",
    "    plt.ylabel(\"Humidity(%)\")\n",
    "elif(dataToPlot == 'Wind'):\n",
    "    plt.plot(time,wind3,\"-o\")\n",
    "    plt.xlabel(\"Time(Hours)\")\n",
    "    plt.ylabel(\"Wind\")\n",
    "elif(dataToPlot == 'Wind Speed'):\n",
    "    plt.plot(time,windSpeed3,\"-o\")\n",
    "    plt.xlabel(\"Time(Hours)\")\n",
    "    plt.ylabel(\"Wind Speed(mph)\")\n",
    "elif(dataToPlot == 'Wind Gust'):\n",
    "    plt.plot(time,windGust3,\"-o\")\n",
    "    plt.xlabel(\"Time(Hours)\")\n",
    "    plt.ylabel(\"Wind Gust(mph)\")\n",
    "elif(dataToPlot == 'Pressure'):\n",
    "    plt.plot(time,pressure3,\"-o\")\n",
    "    plt.xlabel(\"Time(Hours)\")\n",
    "    plt.ylabel(\"Pressure(in)\")\n",
    "elif(dataToPlot == 'Precip'):\n",
    "    plt.plot(time,precip3,\"-o\")\n",
    "    plt.xlabel(\"Time(Hours)\")\n",
    "    plt.ylabel(\"Precip(in)\")\n",
    "elif(dataToPlot == 'Condition'):\n",
    "    plt.plot(time,condition3,\"-o\")\n",
    "    plt.xlabel(\"Time(Hours)\")\n",
    "    plt.ylabel(\"Condition\")\n",
    "else:\n",
    "    print(\"Enter a correct data to plot\")\n",
    "\n",
    "\n",
    "\n",
    "\n",
    "\n",
    "\n",
    "\n"
   ]
  }
 ],
 "metadata": {
  "kernelspec": {
   "display_name": "Python 3",
   "language": "python",
   "name": "python3"
  },
  "language_info": {
   "codemirror_mode": {
    "name": "ipython",
    "version": 3
   },
   "file_extension": ".py",
   "mimetype": "text/x-python",
   "name": "python",
   "nbconvert_exporter": "python",
   "pygments_lexer": "ipython3",
   "version": "3.7.3"
  }
 },
 "nbformat": 4,
 "nbformat_minor": 2
}
