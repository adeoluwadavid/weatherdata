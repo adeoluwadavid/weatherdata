{
 "cells": [
  {
   "cell_type": "code",
   "execution_count": 25,
   "metadata": {},
   "outputs": [],
   "source": [
    "\n",
    "from __future__ import print_function\n",
    "from ipywidgets import interact, interactive, fixed, interact_manual\n",
    "from IPython.display import display\n",
    "import ipywidgets as widgets\n",
    "import pandas as pd\n",
    "import matplotlib.pyplot as plt\n",
    "from WeatherFunction import weather\n",
    "plt.rcParams['figure.figsize'] = [12, 5]"
   ]
  },
  {
   "cell_type": "code",
   "execution_count": 10,
   "metadata": {
    "scrolled": false
   },
   "outputs": [
    {
     "data": {
      "application/vnd.jupyter.widget-view+json": {
       "model_id": "32cbc22e2433489d8be4370d7fe3ece3",
       "version_major": 2,
       "version_minor": 0
      },
      "text/plain": [
       "Dropdown(description='Year:', options=('2014', '2015', '2016', '2017', '2018', '2019', '2020'), value='2014')"
      ]
     },
     "metadata": {},
     "output_type": "display_data"
    },
    {
     "data": {
      "application/vnd.jupyter.widget-view+json": {
       "model_id": "30fe90ca783149fc9838fe73adcbce9b",
       "version_major": 2,
       "version_minor": 0
      },
      "text/plain": [
       "Dropdown(description='Month:', options=('Jan', 'Feb', 'Mar', 'Apr', 'May', 'June', 'July', 'Aug', 'Sept', 'Oct…"
      ]
     },
     "metadata": {},
     "output_type": "display_data"
    },
    {
     "data": {
      "application/vnd.jupyter.widget-view+json": {
       "model_id": "a762aa658532467cb791ffd6521494e2",
       "version_major": 2,
       "version_minor": 0
      },
      "text/plain": [
       "Dropdown(description='Day:', options=(1, 2, 3, 4, 5, 6, 7, 8, 9, 10, 11, 12, 13, 14, 15, 16, 17, 18, 19, 20, 2…"
      ]
     },
     "metadata": {},
     "output_type": "display_data"
    },
    {
     "data": {
      "application/vnd.jupyter.widget-view+json": {
       "model_id": "2e43942368564b00bc351c9f1ae15257",
       "version_major": 2,
       "version_minor": 0
      },
      "text/plain": [
       "Dropdown(description='Data To Plot:', options=('Temperature', 'Dew Point', 'Humidity', 'Wind', 'Wind Speed', '…"
      ]
     },
     "metadata": {},
     "output_type": "display_data"
    }
   ],
   "source": [
    "\n",
    "widgetYear = widgets.Dropdown(\n",
    "    options=['2014', '2015', '2016','2017','2018','2019','2020'],\n",
    "    value='2014',\n",
    "    description='Year:',\n",
    "    disabled=False,\n",
    ")\n",
    "widgetMonth = widgets.Dropdown(\n",
    "    options=['Jan', 'Feb', 'Mar','Apr','May','June','July','Aug','Sept','Oct','Nov','Dec'],\n",
    "    value='Jan',\n",
    "    description='Month:',\n",
    "    disabled=False,\n",
    ")\n",
    "widgetDay = widgets.Dropdown(\n",
    "    options=[1, 2, 3,4,5,6,7,8,9,10,11,12,13,14,15,16,17,18,19,20,21,22,23,24,25,26,27,28,29,30,31],\n",
    "    value=1,\n",
    "    description='Day:',\n",
    "    disabled=False,\n",
    ")\n",
    "widgetDataToPlot = widgets.Dropdown(\n",
    "    options=['Temperature', 'Dew Point', 'Humidity','Wind', 'Wind Speed' ,'Wind Gust','Pressure','Precip','Condition'],\n",
    "    value='Temperature',\n",
    "    description='Data To Plot:',\n",
    "    disabled=False,\n",
    ")\n",
    "display(widgetYear,widgetMonth,widgetDay,widgetDataToPlot)"
   ]
  },
  {
   "cell_type": "code",
   "execution_count": 27,
   "metadata": {
    "scrolled": true
   },
   "outputs": [
    {
     "data": {
      "image/png": "[encoded data removed]",
      "text/plain": [
       "<Figure size 864x360 with 1 Axes>"
      ]
     },
     "metadata": {
      "needs_background": "light"
     },
     "output_type": "display_data"
    }
   ],
   "source": [
    "# -*- coding: utf-8 -*-\n",
    "\"\"\"\n",
    "Created on Fri Oct  9 15:16:17 2020\n",
    "\n",
    "@author: Adewole\n",
    "\"\"\"\n",
    "    \n",
    "weather(widgetYear.value,widgetMonth.value,widgetDay.value,widgetDataToPlot.value)    "
   ]
  },
  {
   "cell_type": "code",
   "execution_count": null,
   "metadata": {},
   "outputs": [],
   "source": []
  }
 ],
 "metadata": {
  "kernelspec": {
   "display_name": "Python 3",
   "language": "python",
   "name": "python3"
  },
  "language_info": {
   "codemirror_mode": {
    "name": "ipython",
    "version": 3
   },
   "file_extension": ".py",
   "mimetype": "text/x-python",
   "name": "python",
   "nbconvert_exporter": "python",
   "pygments_lexer": "ipython3",
   "version": "3.7.3"
  }
 },
 "nbformat": 4,
 "nbformat_minor": 2
}
